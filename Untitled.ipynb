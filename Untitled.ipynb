{
 "cells": [
  {
   "cell_type": "code",
   "execution_count": 10,
   "id": "aaaf5a08-f3b9-4175-8b61-e09c0bf46969",
   "metadata": {},
   "outputs": [],
   "source": [
    "import cv2\n",
    "import numpy as np\n",
    "import pandas as pd"
   ]
  },
  {
   "cell_type": "code",
   "execution_count": 12,
   "id": "46682563-3225-490c-b39e-e57a39f2bde7",
   "metadata": {},
   "outputs": [],
   "source": [
    "img_path='pic4.png'"
   ]
  },
  {
   "cell_type": "code",
   "execution_count": 14,
   "id": "1057e124-9062-4d6b-bb08-349c181d7873",
   "metadata": {},
   "outputs": [],
   "source": [
    "csv_path='colors.csv'"
   ]
  },
  {
   "cell_type": "code",
   "execution_count": 16,
   "id": "9edd61b2-607b-4a13-9ee5-789ef8304fdf",
   "metadata": {},
   "outputs": [],
   "source": [
    "index=['color','color_name','hex','R','G','B']\n",
    "df=pd.read_csv(csv_path,names=index,header=None)\n"
   ]
  },
  {
   "cell_type": "code",
   "execution_count": 18,
   "id": "6a443c69-86cf-4498-8d73-81606d957659",
   "metadata": {},
   "outputs": [
    {
     "name": "stdout",
     "output_type": "stream",
     "text": [
      "                  color             color_name      hex    R    G    B\n",
      "0    air_force_blue_raf   Air Force Blue (Raf)  #5d8aa8   93  138  168\n",
      "1   air_force_blue_usaf  Air Force Blue (Usaf)  #00308f    0   48  143\n",
      "2  air_superiority_blue   Air Superiority Blue  #72a0c1  114  160  193\n",
      "3       alabama_crimson        Alabama Crimson  #a32638  163   38   56\n",
      "4            alice_blue             Alice Blue  #f0f8ff  240  248  255\n"
     ]
    }
   ],
   "source": [
    "print(df.head(5))"
   ]
  },
  {
   "cell_type": "code",
   "execution_count": 20,
   "id": "342ad90c-f736-4bd4-b22c-752da7f2311d",
   "metadata": {},
   "outputs": [
    {
     "name": "stdout",
     "output_type": "stream",
     "text": [
      "865\n"
     ]
    }
   ],
   "source": [
    "print(len(df))"
   ]
  },
  {
   "cell_type": "code",
   "execution_count": 22,
   "id": "84f99535-c7ff-4532-a396-22a189bb4c50",
   "metadata": {},
   "outputs": [
    {
     "name": "stdout",
     "output_type": "stream",
     "text": [
      "color           air_force_blue_usaf\n",
      "color_name    Air Force Blue (Usaf)\n",
      "hex                         #00308f\n",
      "R                                 0\n",
      "G                                48\n",
      "B                               143\n",
      "Name: 1, dtype: object\n"
     ]
    }
   ],
   "source": [
    "print(df.loc[1])"
   ]
  },
  {
   "cell_type": "code",
   "execution_count": 24,
   "id": "8df42acd-5658-4ca5-b3c3-5384d5bb29a9",
   "metadata": {},
   "outputs": [
    {
     "name": "stdout",
     "output_type": "stream",
     "text": [
      "[[[218 190 173]\n",
      "  [188 160 143]\n",
      "  [125  97  80]\n",
      "  ...\n",
      "  [108 152 189]\n",
      "  [112 156 191]\n",
      "  [119 164 198]]\n",
      "\n",
      " [[181 153 136]\n",
      "  [174 146 129]\n",
      "  [159 131 114]\n",
      "  ...\n",
      "  [118 163 199]\n",
      "  [111 156 190]\n",
      "  [118 164 198]]\n",
      "\n",
      " [[124  96  79]\n",
      "  [168 140 123]\n",
      "  [177 149 132]\n",
      "  ...\n",
      "  [113 159 196]\n",
      "  [114 160 195]\n",
      "  [119 166 201]]\n",
      "\n",
      " ...\n",
      "\n",
      " [[ 50  39  11]\n",
      "  [ 49  38  10]\n",
      "  [ 50  39  11]\n",
      "  ...\n",
      "  [ 29  29  29]\n",
      "  [ 28  28  28]\n",
      "  [ 28  26  26]]\n",
      "\n",
      " [[ 48  37   9]\n",
      "  [ 48  37   9]\n",
      "  [ 49  38  10]\n",
      "  ...\n",
      "  [ 15  16  15]\n",
      "  [ 15  16  15]\n",
      "  [ 16  15  14]]\n",
      "\n",
      " [[ 47  38   9]\n",
      "  [ 47  38   9]\n",
      "  [ 49  38  10]\n",
      "  ...\n",
      "  [  8   9   7]\n",
      "  [  8   9   7]\n",
      "  [  8   8   6]]]\n"
     ]
    }
   ],
   "source": [
    "img=cv2.imread(img_path)\n",
    "print(img)"
   ]
  },
  {
   "cell_type": "code",
   "execution_count": 26,
   "id": "5bce36ab-eb9e-413b-931a-51349914b3e7",
   "metadata": {},
   "outputs": [],
   "source": [
    "img=cv2.resize(img,(800,600))"
   ]
  },
  {
   "cell_type": "code",
   "execution_count": 28,
   "id": "92e22dba-112e-4ccb-a806-11d42c6d1a73",
   "metadata": {},
   "outputs": [],
   "source": [
    "clicked=False\n",
    "r=g=b =xpos=ypos=0"
   ]
  },
  {
   "cell_type": "code",
   "execution_count": 30,
   "id": "457b85df-b33e-4f2d-b2ec-51bf7dcc8b88",
   "metadata": {},
   "outputs": [],
   "source": [
    "def get_color_names(R,G,B):\n",
    "    min=1000\n",
    "    for i in range(len(df)):\n",
    "        d=abs(R-int(df.loc[i,'R']))+abs(R-int(df.loc[i,'G']))+abs(R-int(df.loc[i,'B']))\n",
    "        if d<=min:\n",
    "            min=d\n",
    "            cname=df.loc[i,'color_name']\n",
    "    return cname"
   ]
  },
  {
   "cell_type": "code",
   "execution_count": 32,
   "id": "4cb492e3-b011-47b3-9d37-7acb6e1f49df",
   "metadata": {},
   "outputs": [
    {
     "name": "stdout",
     "output_type": "stream",
     "text": [
      "Black\n"
     ]
    }
   ],
   "source": [
    "print(get_color_names(0,0,0))"
   ]
  },
  {
   "cell_type": "code",
   "execution_count": 34,
   "id": "5a8ed04a-6f55-4500-b1c6-f2b69fd4767a",
   "metadata": {},
   "outputs": [],
   "source": [
    "def draw_function(event,x,y,flag,params):\n",
    "    if event==cv2.EVENT_LBUTTONDBLCLK:\n",
    "        global clicked,r,g,b,xpos,ypos\n",
    "        clicked=True;\n",
    "        xpos=x\n",
    "        ypos=y\n",
    "        b,g,r=img[y,x]\n",
    "        b=int(b)\n",
    "        g=int(g)\n",
    "        r=int(r)"
   ]
  },
  {
   "cell_type": "code",
   "execution_count": 36,
   "id": "a5600957-3a0b-4430-bd4a-8e6108355e1f",
   "metadata": {},
   "outputs": [],
   "source": [
    "cv2.namedWindow('image')\n",
    "cv2.setMouseCallback('image',draw_function)\n",
    "while True:\n",
    "    cv2.imshow('image',img)\n",
    "    if clicked:\n",
    "        cv2.rectangle(img,(20,20),(600,60),(b,g,r),-1)\n",
    "        text=get_color_names(r,g,b)+' ' + 'R=' +str(r)+' '+ 'G=' +str(g)+' ' + 'B=' +str(b)\n",
    "        cv2.putText(img,text,(50,50),2,0.8,(255,255,255),2,cv2.LINE_AA)\n",
    "        if r+g+b>=600:\n",
    "            cv2.putText(img,text,(50,50),2,0.8,(0,0,0),2,cv2.LINE_AA)\n",
    "    if cv2.waitKey(20) & 0xFF==27:\n",
    "        break\n",
    "cv2.destroyAllWindows()"
   ]
  },
  {
   "cell_type": "code",
   "execution_count": null,
   "id": "688f0e82-b57d-4fdb-beb9-99a039453319",
   "metadata": {},
   "outputs": [],
   "source": []
  }
 ],
 "metadata": {
  "kernelspec": {
   "display_name": "Python 3 (ipykernel)",
   "language": "python",
   "name": "python3"
  },
  "language_info": {
   "codemirror_mode": {
    "name": "ipython",
    "version": 3
   },
   "file_extension": ".py",
   "mimetype": "text/x-python",
   "name": "python",
   "nbconvert_exporter": "python",
   "pygments_lexer": "ipython3",
   "version": "3.12.4"
  }
 },
 "nbformat": 4,
 "nbformat_minor": 5
}
